{
 "cells": [
  {
   "cell_type": "markdown",
   "metadata": {},
   "source": [
    "Write a Python program that generates 350 random numbers between 12 and 45 (inclusive) and prints out the numbers that are exactly divisible by either 2 or 3 (or both). (14 marks)\n"
   ]
  },
  {
   "cell_type": "code",
   "execution_count": 33,
   "metadata": {
    "scrolled": true
   },
   "outputs": [
    {
     "name": "stdout",
     "output_type": "stream",
     "text": [
      "[39, 12, 16, 15, 36, 39, 28, 44, 26, 22, 18, 20, 20, 45, 15, 45, 21, 14, 26, 28, 40, 22, 24, 36, 30, 20, 18, 22, 24, 15, 18, 27, 21, 26, 16, 21, 21, 45, 21, 14, 36, 36, 26, 16, 27, 42, 18, 21, 32, 18, 16, 26, 32, 34, 27, 24, 27, 34, 24, 34, 20, 12, 14, 38, 12, 45, 32, 36, 34, 39, 42, 14, 28, 32, 38, 12, 44, 21, 28, 39, 26, 20, 30, 42, 20, 44, 15, 33, 27, 12, 27, 15, 12, 42, 24, 22, 14, 22, 24, 32, 28, 21, 45, 28, 44, 45, 32, 22, 32, 40, 20, 34, 36, 27, 18, 15, 38, 44, 34, 30, 12, 20, 18, 40, 20, 42, 12, 34, 20, 21, 40, 44, 18, 28, 15, 39, 26, 28, 22, 40, 21, 20, 14, 24, 39, 27, 36, 30, 39, 12, 12, 40, 40, 28, 28, 32, 32, 14, 39, 24, 44, 36, 26, 32, 32, 39, 24, 44, 33, 45, 20, 33, 21, 36, 22, 38, 12, 18, 15, 45, 42, 38, 21, 14, 34, 38, 45, 12, 44, 45, 36, 26, 44, 44, 28, 45, 14, 15, 27, 34, 45, 34, 26, 44, 22, 16, 15, 14, 20, 20, 16, 36, 34, 34, 38, 34, 39, 22, 12, 34, 27, 36, 30, 22, 20, 39, 38, 34, 21, 45]\n"
     ]
    }
   ],
   "source": [
    "import random\n",
    "\n",
    "rand350 = [random.randint(12, 45) for x in range(350)]\n",
    "print([x for x in rand350 if x%2 == 0 or x%3 == 0])"
   ]
  },
  {
   "cell_type": "markdown",
   "metadata": {},
   "source": [
    "Write a Python function that takes a list of strings as its argument. The function should print out the shortest string and the longest string (if two strings have the same length print out the one that occurs first). (11 marks)"
   ]
  },
  {
   "cell_type": "code",
   "execution_count": 2,
   "metadata": {},
   "outputs": [
    {
     "name": "stdout",
     "output_type": "stream",
     "text": [
      "first\n",
      "Shortest: xyx\n",
      "longest: very long\n"
     ]
    }
   ],
   "source": [
    "def short_long(*str_list):\n",
    "    shortest = str_list[0]\n",
    "    longest = str_list[0]\n",
    "    for astr in str_list:\n",
    "        if len(shortest) > len(astr):\n",
    "            shortest = astr\n",
    "        if len(longest) < len(astr):\n",
    "            longest = astr\n",
    "    print(\"Shortest: \" + shortest)\n",
    "    print(\"longest: \" + longest)\n",
    "    \n",
    "\n",
    "short_long(\"first\", \"second\", \"third\", \"fourth\", \"fifth\", \"sixth\", \"very long\", \"xyx\")"
   ]
  },
  {
   "cell_type": "markdown",
   "metadata": {},
   "source": [
    "Write a Python function that takes two strings as arguments. The function should print out the string that contains the most vowels. (13 marks)"
   ]
  },
  {
   "cell_type": "code",
   "execution_count": 10,
   "metadata": {},
   "outputs": [
    {
     "name": "stdout",
     "output_type": "stream",
     "text": [
      "Solasidoa\n"
     ]
    }
   ],
   "source": [
    "def most_vowels(*strings):\n",
    "    result = (0, \"\")\n",
    "    for astr in strings:\n",
    "        str_len = 0\n",
    "        for c in astr:\n",
    "            if c.lower() in \"aeiou\":\n",
    "                str_len += 1\n",
    "        if result[0] < str_len:\n",
    "            result = (str_len, astr)\n",
    "    print(result[1])\n",
    "    \n",
    "most_vowels(\"Hello\", \"naMe\", \"Doremifa\", \"Solasido\")\n",
    "        "
   ]
  },
  {
   "cell_type": "markdown",
   "metadata": {},
   "source": [
    "Write a Python program that reads in the first names of 250 students. The names should be stored in a dictionary that is used to keep a record of how many students with each name there are. (12 marks)"
   ]
  },
  {
   "cell_type": "code",
   "execution_count": 32,
   "metadata": {},
   "outputs": [
    {
     "name": "stdout",
     "output_type": "stream",
     "text": [
      "Enter Stuident's First name: Martin\n",
      "Enter Stuident's First name: jozef\n",
      "Enter Stuident's First name: martin\n",
      "Enter Stuident's First name: jozef\n",
      "Enter Stuident's First name: John\n",
      "Enter Stuident's First name: john\n",
      "Enter Stuident's First name: marie\n",
      "Enter Stuident's First name: marie\n",
      "Enter Stuident's First name: maria\n",
      "Enter Stuident's First name: debbie\n",
      "{'Martin': 2, 'Jozef': 2, 'John': 2, 'Marie': 2, 'Maria': 1, 'Debbie': 1}\n"
     ]
    }
   ],
   "source": [
    "students = 10 # number  of students change to 350 \n",
    "student_list = dict()\n",
    "for x in range(students):\n",
    "    name = input(\"Enter Student's First name: \").title()\n",
    "    if name in student_list:\n",
    "        student_list[name] += 1\n",
    "    else:\n",
    "        student_list[name] = 1\n",
    "print(student_list)"
   ]
  },
  {
   "cell_type": "markdown",
   "metadata": {},
   "source": [
    "Write a Python program that reads 150 words into a list, your program should then create a 2nd list that which is a copy of the 1st list with only the words that have at least one letter ‘q’ in them. (15 marks)"
   ]
  },
  {
   "cell_type": "code",
   "execution_count": 6,
   "metadata": {},
   "outputs": [
    {
     "name": "stdout",
     "output_type": "stream",
     "text": [
      "['test3q', 'teqst4', 'qtest6']\n"
     ]
    }
   ],
   "source": [
    "list = {\"test1\", \"test2\", \"test3q\", \"teqst4\", \"test5\", \"qtest6\", \"test7\"}\n",
    "\n",
    "second_list = [x for x in list if 'q' in x]\n",
    "print(second_list)"
   ]
  },
  {
   "cell_type": "markdown",
   "metadata": {},
   "source": [
    "Write a Python function that takes a set of integers and a list of integers as its arguments. The function should return the number of integers that are in both the list and the set. (10 marks)"
   ]
  },
  {
   "cell_type": "code",
   "execution_count": 28,
   "metadata": {},
   "outputs": [
    {
     "name": "stdout",
     "output_type": "stream",
     "text": [
      "{2, 3, 4}\n"
     ]
    }
   ],
   "source": [
    "def compare_this(integers, input_list):\n",
    "    return set(integers) & set(input_list)\n",
    "    \n",
    "print(compare_this({1, 2, 3, 4, 5}, [2, 3, 4, 6, 7, 8]))"
   ]
  }
 ],
 "metadata": {
  "kernelspec": {
   "display_name": "Python 3",
   "language": "python",
   "name": "python3"
  },
  "language_info": {
   "codemirror_mode": {
    "name": "ipython",
    "version": 3
   },
   "file_extension": ".py",
   "mimetype": "text/x-python",
   "name": "python",
   "nbconvert_exporter": "python",
   "pygments_lexer": "ipython3",
   "version": "3.7.0"
  }
 },
 "nbformat": 4,
 "nbformat_minor": 2
}
